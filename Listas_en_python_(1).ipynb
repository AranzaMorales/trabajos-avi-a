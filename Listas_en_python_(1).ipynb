{
  "cells": [
    {
      "cell_type": "markdown",
      "id": "fc1dc49e",
      "metadata": {
        "id": "fc1dc49e"
      },
      "source": [
        "  <img src=\"python.png\" width='100' height='100'>  <center>  Listas en Python </center>"
      ]
    },
    {
      "cell_type": "markdown",
      "id": "57e1aa9d",
      "metadata": {
        "id": "57e1aa9d"
      },
      "source": [
        "Las listas en Python son un tipo de dato que permite almacenar datos de cualquier tipo. Son mutables y dinámicas, lo cual es la principal diferencia con los sets y las tuplas.\n",
        "\n",
        "## Crear listas Python\n",
        "\n",
        "Las listas en Python son uno de los tipos o estructuras de datos más versátiles del lenguaje, ya que permiten almacenar un conjunto arbitrario de datos. Es decir, podemos guardar en ellas prácticamente lo que sea. Si vienes de otros lenguajes de programación, se podría decir que son similares a los arrays."
      ]
    },
    {
      "cell_type": "code",
      "execution_count": 1,
      "id": "ccbfef58",
      "metadata": {
        "id": "ccbfef58"
      },
      "outputs": [],
      "source": [
        "lista = [1, 2, 3, 4]"
      ]
    },
    {
      "cell_type": "code",
      "execution_count": 2,
      "id": "b8351efe",
      "metadata": {
        "id": "b8351efe"
      },
      "outputs": [],
      "source": [
        "# También se puede crear usando list y pasando un objeto iterable.\n",
        "lista = list(\"1234\")"
      ]
    },
    {
      "cell_type": "markdown",
      "id": "ee7809df",
      "metadata": {
        "id": "ee7809df"
      },
      "source": [
        "Una lista sea crea con [] separando sus elementos con comas ,. Una gran ventaja es que pueden almacenar tipos de datos distintos."
      ]
    },
    {
      "cell_type": "code",
      "execution_count": 4,
      "id": "b947e57f",
      "metadata": {
        "id": "b947e57f"
      },
      "outputs": [],
      "source": [
        "lista = [1, \"Hola\", 3.67, [1, 2, 3]]"
      ]
    },
    {
      "cell_type": "markdown",
      "id": "b6273e5b",
      "metadata": {
        "id": "b6273e5b"
      },
      "source": [
        "Algunas propiedades de las listas:\n",
        "\n",
        "Son ordenadas, mantienen el orden en el que han sido definidas\n",
        "Pueden ser formadas por tipos arbitrarios\n",
        "Pueden ser indexadas con [i].\n",
        "Se pueden anidar, es decir, meter una dentro de la otra.\n",
        "Son mutables, ya que sus elementos pueden ser modificados.\n",
        "Son dinámicas, ya que se pueden añadir o eliminar elementos.\n",
        "\n",
        "## Acceder y modificar listas\n",
        "\n",
        "Si tenemos una lista a con 3 elementos almacenados en ella, podemos acceder a los mismos usando corchetes y un índice, que va desde 0 a n-1 siendo n el tamaño de la lista."
      ]
    },
    {
      "cell_type": "code",
      "execution_count": 5,
      "id": "f0aa256d",
      "metadata": {
        "id": "f0aa256d",
        "colab": {
          "base_uri": "https://localhost:8080/"
        },
        "outputId": "75e9884c-5e53-4e37-9d0c-13118547bbdb"
      },
      "outputs": [
        {
          "output_type": "stream",
          "name": "stdout",
          "text": [
            "90\n",
            "Python\n",
            "3.87\n"
          ]
        }
      ],
      "source": [
        "a = [90, \"Python\", 3.87]\n",
        "print(a[0]) #90\n",
        "print(a[1]) #Python\n",
        "print(a[2]) #3.87"
      ]
    },
    {
      "cell_type": "code",
      "execution_count": 6,
      "id": "7eceecd4",
      "metadata": {
        "id": "7eceecd4",
        "colab": {
          "base_uri": "https://localhost:8080/"
        },
        "outputId": "a099eb65-e595-4da8-c4f8-9da7e00ddd5a"
      },
      "outputs": [
        {
          "output_type": "stream",
          "name": "stdout",
          "text": [
            "Python\n"
          ]
        }
      ],
      "source": [
        "#Se puede también acceder al último elemento usando el índice [-1]\n",
        "print(a[-2]) #Python"
      ]
    },
    {
      "cell_type": "code",
      "execution_count": 7,
      "id": "dbda4578",
      "metadata": {
        "id": "dbda4578",
        "colab": {
          "base_uri": "https://localhost:8080/"
        },
        "outputId": "7aed950b-a1ee-43f2-abbc-ca4d67745fd6"
      },
      "outputs": [
        {
          "output_type": "stream",
          "name": "stdout",
          "text": [
            "[90, 'Python', 1]\n"
          ]
        }
      ],
      "source": [
        "#Y si queremos modificar un elemento de la lista, basta con asignar con el operador = el nuevo valor.\n",
        "a[2] = 1\n",
        "print(a) #[90, 'Python', 1]"
      ]
    },
    {
      "cell_type": "code",
      "execution_count": 8,
      "id": "85ab32c0",
      "metadata": {
        "id": "85ab32c0",
        "colab": {
          "base_uri": "https://localhost:8080/"
        },
        "outputId": "40bf37c8-bb56-4f8e-fd5f-04aa5d64c58b"
      },
      "outputs": [
        {
          "output_type": "stream",
          "name": "stdout",
          "text": [
            "[1, 3, 4, 5]\n"
          ]
        }
      ],
      "source": [
        "#Un elemento puede ser eliminado con diferentes métodos como veremos a continuación,\n",
        "#o con del y la lista con el índice a eliminar.\n",
        "l = [1, 2, 3, 4, 5]\n",
        "del l[1]\n",
        "print(l) #[1, 3, 4, 5]"
      ]
    },
    {
      "cell_type": "markdown",
      "id": "a6861c50",
      "metadata": {
        "id": "a6861c50"
      },
      "source": [
        "También podemos tener listas anidadas, es decir, una lista dentro de otra. Incluso podemos tener una lista dentro de otra lista y a su vez dentro de otra lista. Para acceder a sus elementos sólo tenemos que usar [] tantas veces como niveles de anidado tengamos."
      ]
    },
    {
      "cell_type": "code",
      "execution_count": 9,
      "id": "de44f673",
      "metadata": {
        "id": "de44f673",
        "colab": {
          "base_uri": "https://localhost:8080/"
        },
        "outputId": "a3d94130-d375-47fa-fec3-9635866e2187"
      },
      "outputs": [
        {
          "output_type": "stream",
          "name": "stdout",
          "text": [
            "p\n",
            "5\n",
            "7\n"
          ]
        }
      ],
      "source": [
        "x = [1, 2, 3, ['p', 'q', [5, 6, 7]]]\n",
        "print(x[3][0])    #p\n",
        "print(x[3][2][0]) #5\n",
        "print(x[3][2][2]) #7"
      ]
    },
    {
      "cell_type": "code",
      "execution_count": 10,
      "id": "7671cdb8",
      "metadata": {
        "id": "7671cdb8",
        "colab": {
          "base_uri": "https://localhost:8080/"
        },
        "outputId": "ea367665-fb3c-41c4-ee2c-39be967fbe22"
      },
      "outputs": [
        {
          "output_type": "stream",
          "name": "stdout",
          "text": [
            "[0, 0, 0, 4, 5, 6]\n"
          ]
        }
      ],
      "source": [
        "# Y de la misma manera podemos modificar múltiples valores de la lista a la vez usando :\n",
        "l = [1, 2, 3, 4, 5, 6]\n",
        "l[0:3] = [0, 0, 0]\n",
        "print(l) #[0, 0, 0, 4, 5, 6]"
      ]
    },
    {
      "cell_type": "code",
      "execution_count": 11,
      "id": "2aeb0419",
      "metadata": {
        "id": "2aeb0419",
        "colab": {
          "base_uri": "https://localhost:8080/"
        },
        "outputId": "8c95febf-8a38-4f86-c82e-52429300497f"
      },
      "outputs": [
        {
          "output_type": "stream",
          "name": "stdout",
          "text": [
            "[1, 2, 3, 4, 5]\n"
          ]
        }
      ],
      "source": [
        "# Hay ciertos operadores como el + que pueden ser usados sobre las listas.\n",
        "l = [1, 2, 3]\n",
        "l += [4, 5]\n",
        "print(l) #[1, 2, 3, 4, 5]"
      ]
    },
    {
      "cell_type": "code",
      "execution_count": 12,
      "id": "e2800592",
      "metadata": {
        "id": "e2800592",
        "colab": {
          "base_uri": "https://localhost:8080/"
        },
        "outputId": "6afb13a4-7cd8-481a-8e47-c198cb98bc79"
      },
      "outputs": [
        {
          "output_type": "stream",
          "name": "stdout",
          "text": [
            "1 2 3\n"
          ]
        }
      ],
      "source": [
        "#Y una funcionalidad muy interesante es que se puede asignar una lista con n elementos a n variables.\n",
        "l = [1, 2, 3]\n",
        "x, y, z = l\n",
        "print(x, y, z) #1 2 3"
      ]
    },
    {
      "cell_type": "markdown",
      "id": "4e413350",
      "metadata": {
        "id": "4e413350"
      },
      "source": [
        "## Iterar listas\n",
        "En Python es muy fácil iterar una lista, mucho más que en otros lenguajes de programación."
      ]
    },
    {
      "cell_type": "code",
      "execution_count": 13,
      "id": "ebf6ff3b",
      "metadata": {
        "id": "ebf6ff3b",
        "colab": {
          "base_uri": "https://localhost:8080/"
        },
        "outputId": "c99e4047-015e-4483-c276-574822e4b7eb"
      },
      "outputs": [
        {
          "output_type": "stream",
          "name": "stdout",
          "text": [
            "5\n",
            "9\n",
            "10\n"
          ]
        }
      ],
      "source": [
        "lista = [5, 9, 10]\n",
        "for l in lista:\n",
        "    print(l)\n",
        "#5\n",
        "#9\n",
        "#10"
      ]
    },
    {
      "cell_type": "code",
      "execution_count": 14,
      "id": "33b65f8c",
      "metadata": {
        "id": "33b65f8c",
        "colab": {
          "base_uri": "https://localhost:8080/"
        },
        "outputId": "fd2971e0-342e-4bf3-cc9b-2ab7bf65f0e3"
      },
      "outputs": [
        {
          "output_type": "stream",
          "name": "stdout",
          "text": [
            "0 5\n",
            "1 9\n",
            "2 10\n"
          ]
        }
      ],
      "source": [
        "# Si necesitamos un índice acompañado con la lista, que tome valores desde 0 hasta n-1, se puede hacer de la siguiente manera.\n",
        "lista = [5, 9, 10]\n",
        "for index, l in enumerate(lista):\n",
        "    print(index, l)\n",
        "#0 5\n",
        "#1 9\n",
        "#2 10"
      ]
    },
    {
      "cell_type": "code",
      "execution_count": 15,
      "id": "3da34a22",
      "metadata": {
        "id": "3da34a22",
        "colab": {
          "base_uri": "https://localhost:8080/"
        },
        "outputId": "a8884b3c-1da1-4c25-9ef4-f89c95f3c0a7"
      },
      "outputs": [
        {
          "output_type": "stream",
          "name": "stdout",
          "text": [
            "5 Jazz\n",
            "9 Rock\n",
            "10 Djent\n"
          ]
        }
      ],
      "source": [
        "# O si tenemos dos listas y las queremos iterar a la vez, también es posible hacerlo.\n",
        "lista1 = [5, 9, 10]\n",
        "lista2 = [\"Jazz\", \"Rock\", \"Djent\"]\n",
        "for l1, l2 in zip(lista1, lista2):\n",
        "    print(l1, l2)\n",
        "#5 Jazz\n",
        "#9 Rock\n",
        "#10 Djent"
      ]
    },
    {
      "cell_type": "code",
      "execution_count": 16,
      "id": "cb1d6d84",
      "metadata": {
        "id": "cb1d6d84",
        "colab": {
          "base_uri": "https://localhost:8080/"
        },
        "outputId": "915a6648-e18a-4584-c4eb-91c9c83a50f4"
      },
      "outputs": [
        {
          "output_type": "stream",
          "name": "stdout",
          "text": [
            "5\n",
            "9\n",
            "10\n"
          ]
        }
      ],
      "source": [
        "#Y por supuesto, también se pueden iterar las listas usando los índices como hemos visto al principio,\n",
        "# y haciendo uso de len(), que nos devuelve la longitud de la lista.\n",
        "lista1 = [5, 9, 10]\n",
        "for i in range(0, len(lista)):\n",
        "    print(lista1[i])\n",
        "#5\n",
        "#9\n",
        "#10"
      ]
    },
    {
      "cell_type": "markdown",
      "id": "7e2c1ed9",
      "metadata": {
        "id": "7e2c1ed9"
      },
      "source": [
        "## Métodos listas\n",
        "append(<obj>)\n",
        "El método append() añade un elemento al final de la lista."
      ]
    },
    {
      "cell_type": "code",
      "execution_count": 17,
      "id": "47c7810c",
      "metadata": {
        "id": "47c7810c",
        "colab": {
          "base_uri": "https://localhost:8080/"
        },
        "outputId": "c554ae46-e7f0-4465-ad78-3e42bdb7fbe7"
      },
      "outputs": [
        {
          "output_type": "stream",
          "name": "stdout",
          "text": [
            "[1, 2, 3]\n"
          ]
        }
      ],
      "source": [
        "l = [1, 2]\n",
        "l.append(3)\n",
        "print(l) #[1, 2, 3]"
      ]
    },
    {
      "cell_type": "code",
      "execution_count": 18,
      "id": "ddb04f03",
      "metadata": {
        "id": "ddb04f03",
        "colab": {
          "base_uri": "https://localhost:8080/"
        },
        "outputId": "630d91b8-f62f-4095-88c3-052802bd55ef"
      },
      "outputs": [
        {
          "output_type": "stream",
          "name": "stdout",
          "text": [
            "[1, 2, 3]\n"
          ]
        }
      ],
      "source": [
        "# extend(<iterable>)\n",
        "# El método extend() permite añadir una lista a la lista inicial.\n",
        "l = [1, 3]\n",
        "l.insert(1, 2)\n",
        "print(l) #[1, 2, 3]"
      ]
    },
    {
      "cell_type": "code",
      "execution_count": 19,
      "id": "a300fb23",
      "metadata": {
        "id": "a300fb23",
        "colab": {
          "base_uri": "https://localhost:8080/"
        },
        "outputId": "e55987f3-23bd-418c-b80a-84692c1f8a20"
      },
      "outputs": [
        {
          "output_type": "stream",
          "name": "stdout",
          "text": [
            "[1, 2]\n"
          ]
        }
      ],
      "source": [
        "#remove(<obj>)\n",
        "#El método remove() recibe como argumento un objeto y lo borra de la lista.\n",
        "l = [1, 2, 3]\n",
        "l.remove(3)\n",
        "print(l) #[1, 2]"
      ]
    },
    {
      "cell_type": "code",
      "execution_count": 20,
      "id": "ab50b69b",
      "metadata": {
        "id": "ab50b69b",
        "colab": {
          "base_uri": "https://localhost:8080/"
        },
        "outputId": "3985e452-04a9-4931-f441-4b99a5dac627"
      },
      "outputs": [
        {
          "output_type": "stream",
          "name": "stdout",
          "text": [
            "[1, 2]\n"
          ]
        }
      ],
      "source": [
        "#pop(index=-1)\n",
        "# El método pop() elimina por defecto el último elemento de la lista,\n",
        "# pero si se pasa como parámetro un índice permite borrar elementos diferentes al último.\n",
        "l = [1, 2, 3]\n",
        "l.pop()\n",
        "print(l) #[1, 2]"
      ]
    },
    {
      "cell_type": "code",
      "execution_count": 21,
      "id": "ece12439",
      "metadata": {
        "id": "ece12439",
        "colab": {
          "base_uri": "https://localhost:8080/"
        },
        "outputId": "311febb5-c4d8-40f3-fa24-d305704f7ac6"
      },
      "outputs": [
        {
          "output_type": "stream",
          "name": "stdout",
          "text": [
            "[3, 2, 1]\n"
          ]
        }
      ],
      "source": [
        "# reverse()\n",
        "# El método reverse() inverte el órden de la lista.\n",
        "l = [1, 2, 3]\n",
        "l.reverse()\n",
        "print(l) #[3, 2, 1]"
      ]
    },
    {
      "cell_type": "code",
      "execution_count": 22,
      "id": "6168bb63",
      "metadata": {
        "id": "6168bb63",
        "colab": {
          "base_uri": "https://localhost:8080/"
        },
        "outputId": "0c50c355-7e5a-440a-8c1e-494f7b1a59ce"
      },
      "outputs": [
        {
          "output_type": "stream",
          "name": "stdout",
          "text": [
            "[1, 2, 3]\n"
          ]
        }
      ],
      "source": [
        "# sort()\n",
        "# El método sort() ordena los elementos de menos a mayor por defecto.\n",
        "l = [3, 1, 2]\n",
        "l.sort()\n",
        "print(l) #[1, 2, 3]"
      ]
    },
    {
      "cell_type": "code",
      "execution_count": 23,
      "id": "d238f3e3",
      "metadata": {
        "id": "d238f3e3",
        "colab": {
          "base_uri": "https://localhost:8080/"
        },
        "outputId": "5f5c0296-e0af-497f-dafc-b85248829a43"
      },
      "outputs": [
        {
          "output_type": "stream",
          "name": "stdout",
          "text": [
            "[3, 2, 1]\n"
          ]
        }
      ],
      "source": [
        "# Y también permite ordenar de mayor a menor si se pasa como parámetro reverse=True\n",
        "l = [3, 1, 2]\n",
        "l.sort(reverse=True)\n",
        "print(l) #[3, 2, 1]"
      ]
    },
    {
      "cell_type": "code",
      "execution_count": 24,
      "id": "06c643c9",
      "metadata": {
        "id": "06c643c9",
        "colab": {
          "base_uri": "https://localhost:8080/"
        },
        "outputId": "0ffeb660-49a7-4477-8ca0-6e87a607be38"
      },
      "outputs": [
        {
          "output_type": "stream",
          "name": "stdout",
          "text": [
            "1\n"
          ]
        }
      ],
      "source": [
        "# index(<obj>[,index])\n",
        "#El método index() recibe como parámetro un objeto y devuelve el índice de su primera aparición.\n",
        "#Como hemos visto en otras ocasiones, el índice del primer elemento es el 0.\n",
        "l = [\"Periphery\", \"Intervals\", \"Monuments\"]\n",
        "print(l.index(\"Intervals\"))"
      ]
    },
    {
      "cell_type": "code",
      "execution_count": 25,
      "id": "30439223",
      "metadata": {
        "id": "30439223",
        "colab": {
          "base_uri": "https://localhost:8080/"
        },
        "outputId": "6f4f9edd-2d93-4caa-b418-2a41ec4aadad"
      },
      "outputs": [
        {
          "output_type": "stream",
          "name": "stdout",
          "text": [
            "5\n"
          ]
        }
      ],
      "source": [
        "#También permite introducir un parámetro opcional que representa el índice desde el que comenzar la búsqueda del objeto.\n",
        "#Es como si ignorara todo lo que hay antes de ese índice para la búsqueda, en este caso el 4.\n",
        "l = [1, 1, 1, 1, 2, 1, 4, 5]\n",
        "print(l.index(1, 4)) #5"
      ]
    },
    {
      "cell_type": "markdown",
      "id": "48610ceb",
      "metadata": {
        "id": "48610ceb"
      },
      "source": [
        "## METACOGNICIÓN"
      ]
    },
    {
      "cell_type": "code",
      "execution_count": 27,
      "id": "4482502e",
      "metadata": {
        "colab": {
          "base_uri": "https://localhost:8080/"
        },
        "id": "4482502e",
        "outputId": "1c4cf28a-6f5a-48de-ce3f-4324a6091a0a"
      },
      "outputs": [
        {
          "output_type": "stream",
          "name": "stdout",
          "text": [
            "Ingrese la edad del compañero 1: 17\n",
            "Ingrese la edad del compañero 2: 17\n",
            "Ingrese la edad del compañero 3: 17\n",
            "Ingrese la edad del compañero 4: 17\n",
            "Ingrese la edad del compañero 5: 18\n",
            "Ingrese la edad del compañero 6: 16\n",
            "Ingrese la edad del compañero 7: 16\n",
            "Ingrese la edad del compañero 8: 18\n",
            "Ingrese la edad del compañero 9: 18\n",
            "Ingrese la edad del compañero 10: 18\n",
            "El promedio de las edades es: 17.2\n",
            "La edad mayor es: 18\n",
            "La edad menor es: 16\n",
            "Las edades de los compañeros son: [17, 17, 17, 17, 18, 16, 16, 18, 18, 18]\n"
          ]
        }
      ],
      "source": [
        "#Elabora un programa que lea un arreglo de 10 posiciones que contenga las edades de 10 de sus compañeros,\n",
        "#calcule el promedio de las edades, obtenga la edad mayor y la edad menor. Al final imprima todos los elementos de la lista\n",
        "\n",
        "def main():\n",
        "    # Crear una lista vacía para almacenar las edades\n",
        "    edades = []\n",
        "\n",
        "    # Leer las edades de los compañeros\n",
        "    for i in range(10):\n",
        "        edad = int(input(\"Ingrese la edad del compañero {}: \".format(i+1)))\n",
        "        edades.append(edad)\n",
        "\n",
        "    # Calcular el promedio de las edades\n",
        "    promedio = sum(edades) / len(edades)\n",
        "\n",
        "    # Encontrar la edad mayor y la edad menor\n",
        "    edad_mayor = max(edades)\n",
        "    edad_menor = min(edades)\n",
        "\n",
        "    # Imprimir el promedio, la edad mayor y la edad menor\n",
        "    print(\"El promedio de las edades es:\", promedio)\n",
        "    print(\"La edad mayor es:\", edad_mayor)\n",
        "    print(\"La edad menor es:\", edad_menor)\n",
        "\n",
        "    # Imprimir todos los elementos de la lista\n",
        "    print(\"Las edades de los compañeros son:\", edades)\n",
        "\n",
        "\n",
        "if __name__ == \"__main__\":\n",
        "    main()"
      ]
    },
    {
      "cell_type": "code",
      "execution_count": null,
      "id": "767134d7",
      "metadata": {
        "colab": {
          "base_uri": "https://localhost:8080/"
        },
        "id": "767134d7",
        "outputId": "615a311e-36af-41ca-c324-4c59ff4a3086"
      },
      "outputs": [
        {
          "output_type": "stream",
          "name": "stdout",
          "text": [
            "Ingrese el sueldo del trabajador 1: 2550\n",
            "Ingrese el sueldo del trabajador 2: 2600\n",
            "Ingrese el sueldo del trabajador 3: 3000\n",
            "Ingrese el sueldo del trabajador 4: 3200\n",
            "Ingrese el sueldo del trabajador 5: 2800\n",
            "Ingrese el sueldo del trabajador 6: 2900\n",
            "Ingrese el sueldo del trabajador 7: 3050\n",
            "Ingrese el sueldo del trabajador 8: 2975\n",
            "Ingrese el sueldo del trabajador 9: 2555\n",
            "Ingrese el sueldo del trabajador 10: 3010\n",
            "Ingrese el sueldo del trabajador 11: 2600\n",
            "Ingrese el sueldo del trabajador 12: 2707\n",
            "Ingrese el sueldo del trabajador 13: 3060\n",
            "Ingrese el sueldo del trabajador 14: 3400\n",
            "La nómina total de la empresa es: 43407.0\n",
            "Los sueldos de los trabajadores son: [2555.0, 2600.0, 2600.0, 2707.0, 2800.0, 2900.0, 2975.0, 3000.0, 3000.0, 3010.0, 3050.0, 3060.0, 3200.0, 3400.0]\n"
          ]
        }
      ],
      "source": [
        "#Elabore un programa que lea un arreglo de 14 posiciones que contenga los sueldos de los trabajadores de una empresa\n",
        "#agregue el sueldo de un empleado más de $2,500.00, Calcule la nomina total (suma de todos los sueldos) ordene el arreglo\n",
        "#Ordene los datos, elimine el primer elemento de la fila, Al final imprima todos los elementos de la lista\n",
        "\n",
        "def main():\n",
        "    # Crear una lista vacía para almacenar los sueldos\n",
        "    sueldos = []\n",
        "\n",
        "    # Leer los sueldos de los trabajadores\n",
        "    for i in range(14):\n",
        "        sueldo = float(input(\"Ingrese el sueldo del trabajador {}: \".format(i+1)))\n",
        "        sueldos.append(sueldo)\n",
        "\n",
        "    # Agregar el sueldo de un empleado más de $2,500.00\n",
        "    sueldos.append(3000.00)\n",
        "\n",
        "    # Calcular la nómina total\n",
        "    nomina_total = sum(sueldos)\n",
        "\n",
        "    # Ordenar el arreglo de sueldos\n",
        "    sueldos.sort()\n",
        "\n",
        "    # Eliminar el primer elemento de la lista\n",
        "    sueldos.pop(0)\n",
        "\n",
        "    # Imprimir la nómina total\n",
        "    print(\"La nómina total de la empresa es:\", nomina_total)\n",
        "\n",
        "    # Imprimir todos los elementos de la lista\n",
        "    print(\"Los sueldos de los trabajadores son:\", sueldos)\n",
        "\n",
        "\n",
        "if __name__ == \"__main__\":\n",
        "    main()"
      ]
    }
  ],
  "metadata": {
    "kernelspec": {
      "display_name": "Python 3 (ipykernel)",
      "language": "python",
      "name": "python3"
    },
    "language_info": {
      "codemirror_mode": {
        "name": "ipython",
        "version": 3
      },
      "file_extension": ".py",
      "mimetype": "text/x-python",
      "name": "python",
      "nbconvert_exporter": "python",
      "pygments_lexer": "ipython3",
      "version": "3.9.13"
    },
    "colab": {
      "provenance": []
    }
  },
  "nbformat": 4,
  "nbformat_minor": 5
}